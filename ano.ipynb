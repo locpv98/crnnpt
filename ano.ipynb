{
 "cells": [
  {
   "cell_type": "code",
   "execution_count": 31,
   "metadata": {},
   "outputs": [],
   "source": [
    "filename = '/home/ngoc/work/ocr/crnn.pytorch/dataset/train.txt'\n",
    "strings = []\n",
    "import  os\n",
    "p = '/home/ngoc/work/ocr/crnn.pytorch/dataset'\n",
    "with open(filename, \"r\", encoding=\"utf8\") as f:\n",
    "        lines = [str(p)+'/'+l[0:200] for l in f.read().splitlines() if len(l) > 0]\n",
    "        count = len(lines)\n",
    "        if len(lines) == 0:\n",
    "            raise Exception(\"No lines could be read in file\")\n",
    "        else:\n",
    "            strings.extend(lines)"
   ]
  },
  {
   "cell_type": "code",
   "execution_count": 32,
   "metadata": {},
   "outputs": [
    {
     "data": {
      "text/plain": [
       "'83H-623.47'"
      ]
     },
     "execution_count": 32,
     "metadata": {},
     "output_type": "execute_result"
    }
   ],
   "source": [
    "lb = []\n",
    "lbtext='/home/ngoc/work/ocr/crnn.pytorch/dataset/label.txt'\n",
    "with open(lbtext, \"r\") as f:\n",
    "    lines = [l[0:200] for l in f.read().splitlines() if len(l) > 0]\n",
    "    count = 20000\n",
    "    if len(lines) == 0:\n",
    "        raise Exception(\"No lines could be read in file\")\n",
    "    else:\n",
    "        lb.extend(lines)\n",
    "    \n",
    "lb[1010]"
   ]
  },
  {
   "cell_type": "code",
   "execution_count": 33,
   "metadata": {},
   "outputs": [
    {
     "data": {
      "text/plain": [
       "'/home/ngoc/work/ocr/crnn.pytorch/dataset/83H-623.47.jpg'"
      ]
     },
     "execution_count": 33,
     "metadata": {},
     "output_type": "execute_result"
    }
   ],
   "source": [
    "strings[1010]"
   ]
  },
  {
   "cell_type": "code",
   "execution_count": 24,
   "metadata": {},
   "outputs": [
    {
     "name": "stdout",
     "output_type": "stream",
     "text": [
      "20000\n"
     ]
    }
   ],
   "source": [
    "lbtext='/home/ngoc/work/ocr/crnn.pytorch/dataset/label.txt'\n",
    "with open(lbtext, \"r\") as f:\n",
    "    lines = [l[0:200] for l in f.read().splitlines() if len(l) > 0]\n",
    "    count = len(lines)\n",
    "\n",
    "    print(count)"
   ]
  },
  {
   "cell_type": "code",
   "execution_count": null,
   "metadata": {},
   "outputs": [],
   "source": []
  }
 ],
 "metadata": {
  "interpreter": {
   "hash": "0763ebf8191dcc9f4acf5ba59a2edb6c634d3dbca11810ad08d24eef95f46d67"
  },
  "kernelspec": {
   "display_name": "Python 3.8.12 64-bit ('pt': conda)",
   "language": "python",
   "name": "python3"
  },
  "language_info": {
   "codemirror_mode": {
    "name": "ipython",
    "version": 3
   },
   "file_extension": ".py",
   "mimetype": "text/x-python",
   "name": "python",
   "nbconvert_exporter": "python",
   "pygments_lexer": "ipython3",
   "version": "3.8.12"
  },
  "orig_nbformat": 4
 },
 "nbformat": 4,
 "nbformat_minor": 2
}
